{
  "nbformat": 4,
  "nbformat_minor": 0,
  "metadata": {
    "colab": {
      "name": "tf_tutorial2.ipynb",
      "provenance": [],
      "collapsed_sections": [],
      "authorship_tag": "ABX9TyMpPCtM8XiqcXKfP/7zc+4R",
      "include_colab_link": true
    },
    "kernelspec": {
      "name": "python3",
      "display_name": "Python 3"
    },
    "language_info": {
      "name": "python"
    }
  },
  "cells": [
    {
      "cell_type": "markdown",
      "metadata": {
        "id": "view-in-github",
        "colab_type": "text"
      },
      "source": [
        "<a href=\"https://colab.research.google.com/github/yeedacoding/TensorFlow-Tutorial/blob/main/tf_tutorial2.ipynb\" target=\"_parent\"><img src=\"https://colab.research.google.com/assets/colab-badge.svg\" alt=\"Open In Colab\"/></a>"
      ]
    },
    {
      "cell_type": "code",
      "metadata": {
        "colab": {
          "base_uri": "https://localhost:8080/"
        },
        "id": "zqXywk7joeMP",
        "outputId": "b1aae4ab-2cc7-425b-fe12-97bbde4eff22"
      },
      "source": [
        "import tensorflow as tf\n",
        "from tensorflow import keras\n",
        "\n",
        "import numpy as np\n",
        "\n",
        "print(tf.__version__)"
      ],
      "execution_count": 1,
      "outputs": [
        {
          "output_type": "stream",
          "name": "stdout",
          "text": [
            "2.6.0\n"
          ]
        }
      ]
    },
    {
      "cell_type": "markdown",
      "metadata": {
        "id": "-Ox2TWzzsa4a"
      },
      "source": [
        "# IMDB 데이터셋 다운로드"
      ]
    },
    {
      "cell_type": "code",
      "metadata": {
        "colab": {
          "base_uri": "https://localhost:8080/"
        },
        "id": "vcjHQdmLpOGZ",
        "outputId": "4157d38c-72e4-4fa9-cbad-e46c1ac23818"
      },
      "source": [
        "# IMDB 데이터셋 다운로드\n",
        "\n",
        "imdb = keras.datasets.imdb\n",
        "\n",
        "(train_data, train_labels), (test_data, test_labels) = imdb.load_data(num_words = 10000)\n",
        "# num_words = 10000 은 훈련 데이터에서 가장 많이 등장하는 상위 10000개의 단어"
      ],
      "execution_count": 2,
      "outputs": [
        {
          "output_type": "stream",
          "name": "stdout",
          "text": [
            "Downloading data from https://storage.googleapis.com/tensorflow/tf-keras-datasets/imdb.npz\n",
            "17465344/17464789 [==============================] - 0s 0us/step\n",
            "17473536/17464789 [==============================] - 0s 0us/step\n"
          ]
        }
      ]
    },
    {
      "cell_type": "code",
      "metadata": {
        "colab": {
          "base_uri": "https://localhost:8080/"
        },
        "id": "UTUH0EnYptaJ",
        "outputId": "70fba80f-db56-4012-8bfd-d25c6fc2fd66"
      },
      "source": [
        "# 데이터 형태 살펴보기\n",
        "# IMDB 데이터셋의 샘플은 전처리된 정수 배열 -> 정수는 영화 리뷰에 나오는 단어\n",
        "# 레이블은 정수 0 또는 1 -> 0 = 부정적 리뷰, 1 = 긍정적 리뷰\n",
        "\n",
        "print(\"훈련 샘플 : {}, 레이블 : {}\".format(len(train_data), len(train_labels)))\n",
        "print(\"테스트 샘플 : {}, 레이블 : {}\".format(len(test_data), len(test_labels)))"
      ],
      "execution_count": 6,
      "outputs": [
        {
          "output_type": "stream",
          "name": "stdout",
          "text": [
            "훈련 샘플 : 25000, 레이블 : 25000\n",
            "테스트 샘플 : 25000, 레이블 : 25000\n"
          ]
        }
      ]
    },
    {
      "cell_type": "code",
      "metadata": {
        "colab": {
          "base_uri": "https://localhost:8080/"
        },
        "id": "8nBIhvJkqDWP",
        "outputId": "9dede6f0-5c01-4297-a883-5165b972209d"
      },
      "source": [
        "# 리뷰 텍스트는 어휘 사전의 특정 단어를 나타내는 정수로 변환되어 있음\n",
        "# 첫번째 훈련 데이터에 들어있는 리뷰 텍스트\n",
        "\n",
        "print(train_data[0])"
      ],
      "execution_count": 9,
      "outputs": [
        {
          "output_type": "stream",
          "name": "stdout",
          "text": [
            "[1, 14, 22, 16, 43, 530, 973, 1622, 1385, 65, 458, 4468, 66, 3941, 4, 173, 36, 256, 5, 25, 100, 43, 838, 112, 50, 670, 2, 9, 35, 480, 284, 5, 150, 4, 172, 112, 167, 2, 336, 385, 39, 4, 172, 4536, 1111, 17, 546, 38, 13, 447, 4, 192, 50, 16, 6, 147, 2025, 19, 14, 22, 4, 1920, 4613, 469, 4, 22, 71, 87, 12, 16, 43, 530, 38, 76, 15, 13, 1247, 4, 22, 17, 515, 17, 12, 16, 626, 18, 2, 5, 62, 386, 12, 8, 316, 8, 106, 5, 4, 2223, 5244, 16, 480, 66, 3785, 33, 4, 130, 12, 16, 38, 619, 5, 25, 124, 51, 36, 135, 48, 25, 1415, 33, 6, 22, 12, 215, 28, 77, 52, 5, 14, 407, 16, 82, 2, 8, 4, 107, 117, 5952, 15, 256, 4, 2, 7, 3766, 5, 723, 36, 71, 43, 530, 476, 26, 400, 317, 46, 7, 4, 2, 1029, 13, 104, 88, 4, 381, 15, 297, 98, 32, 2071, 56, 26, 141, 6, 194, 7486, 18, 4, 226, 22, 21, 134, 476, 26, 480, 5, 144, 30, 5535, 18, 51, 36, 28, 224, 92, 25, 104, 4, 226, 65, 16, 38, 1334, 88, 12, 16, 283, 5, 16, 4472, 113, 103, 32, 15, 16, 5345, 19, 178, 32]\n"
          ]
        }
      ]
    },
    {
      "cell_type": "code",
      "metadata": {
        "colab": {
          "base_uri": "https://localhost:8080/"
        },
        "id": "NC0jcCCgqm9h",
        "outputId": "13cc8b55-75e8-47bf-ce26-61a44d73cde4"
      },
      "source": [
        "# 당연히 모든 데이터(리뷰 텍스트)의 길이는 다름\n",
        "# 신경망의 입력은 길이가 같아야 하기 때문에 이 문제를 해결해야 함\n",
        "\n",
        "len(train_data[0]), len(train_data[1])"
      ],
      "execution_count": 10,
      "outputs": [
        {
          "output_type": "execute_result",
          "data": {
            "text/plain": [
              "(218, 189)"
            ]
          },
          "metadata": {},
          "execution_count": 10
        }
      ]
    },
    {
      "cell_type": "code",
      "metadata": {
        "id": "QbsXFiSiqy6d"
      },
      "source": [
        "# 정수를 다시 단어로 변환하기\n",
        "# 정수와 문자열을 매핑한 딕셔너리(dictionary) 객체에 질의하는 헬퍼(helper)함수를 만들어보기\n",
        "\n",
        "# 단어와 정수 인덱스를 매핑한 딕셔너리\n",
        "word_index = imdb.get_word_index()\n",
        "\n",
        "# 처음 몇 개 인덱스는 사전에 정의되어 있음\n",
        "word_index = {k : (v+3) for k,v in word_index.items()}\n",
        "word_index[\"<PAD>\"] = 0\n",
        "word_index[\"<STAR>\"] = 1\n",
        "word_index[\"<UNK>\"] = 2 #UNKOWN\n",
        "word_index[\"<UNUSED>\"] = 3\n",
        "\n",
        "reverse_word_index = dict([(value, key) for (key, value) in word_index.items()])\n",
        "\n",
        "def decode_review(text) :\n",
        "  return ' '.join([reverse_word_index.get(i, '?') for i in text])"
      ],
      "execution_count": 13,
      "outputs": []
    },
    {
      "cell_type": "code",
      "metadata": {
        "colab": {
          "base_uri": "https://localhost:8080/",
          "height": 123
        },
        "id": "faVTeoJEr6Kh",
        "outputId": "f09188d0-f62c-4a6c-f524-2023112fad3f"
      },
      "source": [
        "decode_review(train_data[0])"
      ],
      "execution_count": 14,
      "outputs": [
        {
          "output_type": "execute_result",
          "data": {
            "application/vnd.google.colaboratory.intrinsic+json": {
              "type": "string"
            },
            "text/plain": [
              "\"<STAR> this film was just brilliant casting location scenery story direction everyone's really suited the part they played and you could just imagine being there robert <UNK> is an amazing actor and now the same being director <UNK> father came from the same scottish island as myself so i loved the fact there was a real connection with this film the witty remarks throughout the film were great it was just brilliant so much that i bought the film as soon as it was released for <UNK> and would recommend it to everyone to watch and the fly fishing was amazing really cried at the end it was so sad and you know what they say if you cry at a film it must have been good and this definitely was also <UNK> to the two little boy's that played the <UNK> of norman and paul they were just brilliant children are often left out of the <UNK> list i think because the stars that play them all grown up are such a big profile for the whole film but these children are amazing and should be praised for what they have done don't you think the whole story was so lovely because it was true and was someone's life after all that was shared with us all\""
            ]
          },
          "metadata": {},
          "execution_count": 14
        }
      ]
    },
    {
      "cell_type": "markdown",
      "metadata": {
        "id": "xoHfnL3QsVpn"
      },
      "source": [
        "# 데이터 준비"
      ]
    },
    {
      "cell_type": "code",
      "metadata": {
        "id": "DhWGyOOEsX7q"
      },
      "source": [
        "# 리뷰(정수 배열)는 신경망에 주입하기 전에 텐서로 변환되어야 함\n",
        "# 1. 원-핫 인코딩(one-hot encoding) = 정수 배열을 0과 1로 이루어진 벡터로 변환\n",
        "# 2. 정수 배열의 길이가 모두 같도록 패딩(padding)을 추가해 max_length * num_reviews 크기의 정수 텐서를 만듦\n",
        "\n",
        "# 모든 영화 리뷰의 길이가 같아야 하므로 pad_sequences함수를 사용해 길이 맞추기\n",
        "\n",
        "train_data = keras.preprocessing.sequence.pad_sequences(train_data, \n",
        "                                                        value=word_index[\"<PAD>\"],\n",
        "                                                        padding='post',\n",
        "                                                        maxlen=256)\n",
        "\n",
        "test_data = keras.preprocessing.sequence.pad_sequences(test_data,\n",
        "                                                       value=word_index[\"<PAD>\"],\n",
        "                                                       padding='post',\n",
        "                                                       maxlen=256)"
      ],
      "execution_count": 15,
      "outputs": []
    },
    {
      "cell_type": "code",
      "metadata": {
        "colab": {
          "base_uri": "https://localhost:8080/"
        },
        "id": "yDrDOG-kt_rJ",
        "outputId": "bb8bbcf3-8465-4209-9936-550e022e426e"
      },
      "source": [
        "len(train_data[0]), len(train_data[1])"
      ],
      "execution_count": 16,
      "outputs": [
        {
          "output_type": "execute_result",
          "data": {
            "text/plain": [
              "(256, 256)"
            ]
          },
          "metadata": {},
          "execution_count": 16
        }
      ]
    },
    {
      "cell_type": "code",
      "metadata": {
        "colab": {
          "base_uri": "https://localhost:8080/"
        },
        "id": "ArkPEnLLuFHL",
        "outputId": "29029c58-b3eb-4a5f-fdf3-5780d740fe44"
      },
      "source": [
        "print(train_data[0])\n",
        "\n",
        "# 빈 배열은 0이 되는구나"
      ],
      "execution_count": 18,
      "outputs": [
        {
          "output_type": "stream",
          "name": "stdout",
          "text": [
            "[   1   14   22   16   43  530  973 1622 1385   65  458 4468   66 3941\n",
            "    4  173   36  256    5   25  100   43  838  112   50  670    2    9\n",
            "   35  480  284    5  150    4  172  112  167    2  336  385   39    4\n",
            "  172 4536 1111   17  546   38   13  447    4  192   50   16    6  147\n",
            " 2025   19   14   22    4 1920 4613  469    4   22   71   87   12   16\n",
            "   43  530   38   76   15   13 1247    4   22   17  515   17   12   16\n",
            "  626   18    2    5   62  386   12    8  316    8  106    5    4 2223\n",
            " 5244   16  480   66 3785   33    4  130   12   16   38  619    5   25\n",
            "  124   51   36  135   48   25 1415   33    6   22   12  215   28   77\n",
            "   52    5   14  407   16   82    2    8    4  107  117 5952   15  256\n",
            "    4    2    7 3766    5  723   36   71   43  530  476   26  400  317\n",
            "   46    7    4    2 1029   13  104   88    4  381   15  297   98   32\n",
            " 2071   56   26  141    6  194 7486   18    4  226   22   21  134  476\n",
            "   26  480    5  144   30 5535   18   51   36   28  224   92   25  104\n",
            "    4  226   65   16   38 1334   88   12   16  283    5   16 4472  113\n",
            "  103   32   15   16 5345   19  178   32    0    0    0    0    0    0\n",
            "    0    0    0    0    0    0    0    0    0    0    0    0    0    0\n",
            "    0    0    0    0    0    0    0    0    0    0    0    0    0    0\n",
            "    0    0    0    0]\n"
          ]
        }
      ]
    },
    {
      "cell_type": "markdown",
      "metadata": {
        "id": "IrV1XIE1uR9H"
      },
      "source": [
        "# 모델 구성"
      ]
    },
    {
      "cell_type": "code",
      "metadata": {
        "colab": {
          "base_uri": "https://localhost:8080/"
        },
        "id": "2E85KUHvuQXA",
        "outputId": "8eb42e89-4c10-4222-d799-511749dfdb71"
      },
      "source": [
        "# 역시 신경망은 layer를 쌓아서 만드네\n",
        "# 고려사항\n",
        "# 1. 모델에서 얼마나 많은 층을 사용할 것인가?\n",
        "# 2. 각 층에서 얼마나 많은 은닉 유닛(hidden unit)을 사용할 것인가?\n",
        "# 이 예제의 입력 데이터 = 단어 인덱스의 배열\n",
        "# 레이블 = 0 또는 1\n",
        "\n",
        "# 입력 크기는 영화 리뷰 데이터셋에 적용된 어휘 사전의 크기(10000개의 단어)\n",
        "vocab_size = 10000\n",
        "\n",
        "model = keras.Sequential()\n",
        "model.add(keras.layers.Embedding(vocab_size, 16, input_shape=(None, )))\n",
        "model.add(keras.layers.GlobalAveragePooling1D())\n",
        "model.add(keras.layers.Dense(16, activation='relu'))\n",
        "model.add(keras.layers.Dense(1, activation='sigmoid'))\n",
        "\n",
        "model.summary()"
      ],
      "execution_count": 19,
      "outputs": [
        {
          "output_type": "stream",
          "name": "stdout",
          "text": [
            "Model: \"sequential\"\n",
            "_________________________________________________________________\n",
            "Layer (type)                 Output Shape              Param #   \n",
            "=================================================================\n",
            "embedding (Embedding)        (None, None, 16)          160000    \n",
            "_________________________________________________________________\n",
            "global_average_pooling1d (Gl (None, 16)                0         \n",
            "_________________________________________________________________\n",
            "dense (Dense)                (None, 16)                272       \n",
            "_________________________________________________________________\n",
            "dense_1 (Dense)              (None, 1)                 17        \n",
            "=================================================================\n",
            "Total params: 160,289\n",
            "Trainable params: 160,289\n",
            "Non-trainable params: 0\n",
            "_________________________________________________________________\n"
          ]
        }
      ]
    },
    {
      "cell_type": "code",
      "metadata": {
        "id": "DN-7vWHBxYqE"
      },
      "source": [
        "# 모델에 사용할 optimizer 와 loss function 설정\n",
        "\n",
        "model.compile(optimizer = 'adam',\n",
        "              loss='binary_crossentropy',\n",
        "              metrics=['accuracy'])"
      ],
      "execution_count": 20,
      "outputs": []
    },
    {
      "cell_type": "code",
      "metadata": {
        "id": "NLL7E1qTxzqs"
      },
      "source": [
        "# 검증 세트 만들기\n",
        "# 기존 train_data에서 10000개의 샘플을 떼어내어 검증 세트(validation set)를 만들기\n",
        "# test_data를 사용하지 않는 이유 = train_data만을 사용하여 모델을 개발하고 튜닝하는 것이 목표\n",
        "\n",
        "x_val = train_data[:10000]\n",
        "partial_x_train = train_data[10000:]\n",
        "\n",
        "y_val = train_labels[:10000]\n",
        "partial_y_train = train_labels[10000:]"
      ],
      "execution_count": 21,
      "outputs": []
    },
    {
      "cell_type": "markdown",
      "metadata": {
        "id": "5WIeR6dEycQj"
      },
      "source": [
        "# 모델 훈련"
      ]
    },
    {
      "cell_type": "code",
      "metadata": {
        "colab": {
          "base_uri": "https://localhost:8080/"
        },
        "id": "5PpACOH2ydli",
        "outputId": "94faaeef-8298-453f-a322-b2ef9cb8c800"
      },
      "source": [
        "# 512개의 샘플로 이루어진 미니배치에서 40번의 에포크 동안 훈련\n",
        "# x_train과 y_train 텐서에 있는 모든 샘플에 대해 40번 반복한다는 뜻\n",
        "\n",
        "history = model.fit(partial_x_train,\n",
        "                    partial_y_train,\n",
        "                    epochs=40,\n",
        "                    batch_size=512,\n",
        "                    validation_data = (x_val, y_val),\n",
        "                    verbose=1)"
      ],
      "execution_count": 22,
      "outputs": [
        {
          "output_type": "stream",
          "name": "stdout",
          "text": [
            "Epoch 1/40\n",
            "30/30 [==============================] - 2s 25ms/step - loss: 0.6922 - accuracy: 0.5451 - val_loss: 0.6907 - val_accuracy: 0.6284\n",
            "Epoch 2/40\n",
            "30/30 [==============================] - 1s 19ms/step - loss: 0.6875 - accuracy: 0.7005 - val_loss: 0.6836 - val_accuracy: 0.7156\n",
            "Epoch 3/40\n",
            "30/30 [==============================] - 1s 20ms/step - loss: 0.6760 - accuracy: 0.6974 - val_loss: 0.6687 - val_accuracy: 0.7564\n",
            "Epoch 4/40\n",
            "30/30 [==============================] - 1s 20ms/step - loss: 0.6547 - accuracy: 0.7601 - val_loss: 0.6436 - val_accuracy: 0.7675\n",
            "Epoch 5/40\n",
            "30/30 [==============================] - 1s 19ms/step - loss: 0.6227 - accuracy: 0.7903 - val_loss: 0.6095 - val_accuracy: 0.7892\n",
            "Epoch 6/40\n",
            "30/30 [==============================] - 1s 19ms/step - loss: 0.5815 - accuracy: 0.8098 - val_loss: 0.5689 - val_accuracy: 0.8000\n",
            "Epoch 7/40\n",
            "30/30 [==============================] - 1s 20ms/step - loss: 0.5351 - accuracy: 0.8303 - val_loss: 0.5260 - val_accuracy: 0.8188\n",
            "Epoch 8/40\n",
            "30/30 [==============================] - 1s 20ms/step - loss: 0.4879 - accuracy: 0.8481 - val_loss: 0.4846 - val_accuracy: 0.8325\n",
            "Epoch 9/40\n",
            "30/30 [==============================] - 1s 19ms/step - loss: 0.4441 - accuracy: 0.8597 - val_loss: 0.4476 - val_accuracy: 0.8440\n",
            "Epoch 10/40\n",
            "30/30 [==============================] - 1s 19ms/step - loss: 0.4047 - accuracy: 0.8716 - val_loss: 0.4162 - val_accuracy: 0.8516\n",
            "Epoch 11/40\n",
            "30/30 [==============================] - 1s 19ms/step - loss: 0.3707 - accuracy: 0.8813 - val_loss: 0.3902 - val_accuracy: 0.8577\n",
            "Epoch 12/40\n",
            "30/30 [==============================] - 1s 19ms/step - loss: 0.3425 - accuracy: 0.8903 - val_loss: 0.3695 - val_accuracy: 0.8638\n",
            "Epoch 13/40\n",
            "30/30 [==============================] - 1s 20ms/step - loss: 0.3184 - accuracy: 0.8947 - val_loss: 0.3527 - val_accuracy: 0.8675\n",
            "Epoch 14/40\n",
            "30/30 [==============================] - 1s 19ms/step - loss: 0.2979 - accuracy: 0.9003 - val_loss: 0.3404 - val_accuracy: 0.8674\n",
            "Epoch 15/40\n",
            "30/30 [==============================] - 1s 19ms/step - loss: 0.2802 - accuracy: 0.9050 - val_loss: 0.3279 - val_accuracy: 0.8740\n",
            "Epoch 16/40\n",
            "30/30 [==============================] - 1s 19ms/step - loss: 0.2640 - accuracy: 0.9100 - val_loss: 0.3191 - val_accuracy: 0.8764\n",
            "Epoch 17/40\n",
            "30/30 [==============================] - 1s 19ms/step - loss: 0.2499 - accuracy: 0.9144 - val_loss: 0.3114 - val_accuracy: 0.8788\n",
            "Epoch 18/40\n",
            "30/30 [==============================] - 1s 19ms/step - loss: 0.2372 - accuracy: 0.9197 - val_loss: 0.3050 - val_accuracy: 0.8789\n",
            "Epoch 19/40\n",
            "30/30 [==============================] - 1s 18ms/step - loss: 0.2253 - accuracy: 0.9231 - val_loss: 0.2999 - val_accuracy: 0.8796\n",
            "Epoch 20/40\n",
            "30/30 [==============================] - 1s 19ms/step - loss: 0.2147 - accuracy: 0.9265 - val_loss: 0.2962 - val_accuracy: 0.8810\n",
            "Epoch 21/40\n",
            "30/30 [==============================] - 1s 19ms/step - loss: 0.2052 - accuracy: 0.9305 - val_loss: 0.2934 - val_accuracy: 0.8818\n",
            "Epoch 22/40\n",
            "30/30 [==============================] - 1s 19ms/step - loss: 0.1958 - accuracy: 0.9342 - val_loss: 0.2894 - val_accuracy: 0.8844\n",
            "Epoch 23/40\n",
            "30/30 [==============================] - 1s 19ms/step - loss: 0.1872 - accuracy: 0.9391 - val_loss: 0.2886 - val_accuracy: 0.8840\n",
            "Epoch 24/40\n",
            "30/30 [==============================] - 1s 20ms/step - loss: 0.1790 - accuracy: 0.9419 - val_loss: 0.2859 - val_accuracy: 0.8842\n",
            "Epoch 25/40\n",
            "30/30 [==============================] - 1s 19ms/step - loss: 0.1719 - accuracy: 0.9450 - val_loss: 0.2853 - val_accuracy: 0.8849\n",
            "Epoch 26/40\n",
            "30/30 [==============================] - 1s 19ms/step - loss: 0.1648 - accuracy: 0.9475 - val_loss: 0.2865 - val_accuracy: 0.8822\n",
            "Epoch 27/40\n",
            "30/30 [==============================] - 1s 19ms/step - loss: 0.1583 - accuracy: 0.9506 - val_loss: 0.2841 - val_accuracy: 0.8847\n",
            "Epoch 28/40\n",
            "30/30 [==============================] - 1s 19ms/step - loss: 0.1519 - accuracy: 0.9529 - val_loss: 0.2843 - val_accuracy: 0.8858\n",
            "Epoch 29/40\n",
            "30/30 [==============================] - 1s 19ms/step - loss: 0.1456 - accuracy: 0.9557 - val_loss: 0.2850 - val_accuracy: 0.8843\n",
            "Epoch 30/40\n",
            "30/30 [==============================] - 1s 19ms/step - loss: 0.1401 - accuracy: 0.9573 - val_loss: 0.2871 - val_accuracy: 0.8842\n",
            "Epoch 31/40\n",
            "30/30 [==============================] - 1s 19ms/step - loss: 0.1353 - accuracy: 0.9592 - val_loss: 0.2869 - val_accuracy: 0.8850\n",
            "Epoch 32/40\n",
            "30/30 [==============================] - 1s 19ms/step - loss: 0.1304 - accuracy: 0.9611 - val_loss: 0.2900 - val_accuracy: 0.8830\n",
            "Epoch 33/40\n",
            "30/30 [==============================] - 1s 18ms/step - loss: 0.1256 - accuracy: 0.9636 - val_loss: 0.2905 - val_accuracy: 0.8851\n",
            "Epoch 34/40\n",
            "30/30 [==============================] - 1s 19ms/step - loss: 0.1207 - accuracy: 0.9651 - val_loss: 0.2938 - val_accuracy: 0.8862\n",
            "Epoch 35/40\n",
            "30/30 [==============================] - 1s 19ms/step - loss: 0.1158 - accuracy: 0.9681 - val_loss: 0.2936 - val_accuracy: 0.8850\n",
            "Epoch 36/40\n",
            "30/30 [==============================] - 1s 19ms/step - loss: 0.1116 - accuracy: 0.9690 - val_loss: 0.2980 - val_accuracy: 0.8825\n",
            "Epoch 37/40\n",
            "30/30 [==============================] - 1s 19ms/step - loss: 0.1081 - accuracy: 0.9713 - val_loss: 0.2984 - val_accuracy: 0.8838\n",
            "Epoch 38/40\n",
            "30/30 [==============================] - 1s 19ms/step - loss: 0.1035 - accuracy: 0.9729 - val_loss: 0.3007 - val_accuracy: 0.8835\n",
            "Epoch 39/40\n",
            "30/30 [==============================] - 1s 20ms/step - loss: 0.0999 - accuracy: 0.9741 - val_loss: 0.3034 - val_accuracy: 0.8835\n",
            "Epoch 40/40\n",
            "30/30 [==============================] - 1s 19ms/step - loss: 0.0963 - accuracy: 0.9753 - val_loss: 0.3068 - val_accuracy: 0.8837\n"
          ]
        }
      ]
    },
    {
      "cell_type": "markdown",
      "metadata": {
        "id": "dBvfJdvpy-E-"
      },
      "source": [
        "# 모델 평가"
      ]
    },
    {
      "cell_type": "code",
      "metadata": {
        "colab": {
          "base_uri": "https://localhost:8080/"
        },
        "id": "3KuB1bm4y_Px",
        "outputId": "7567c757-867c-4844-cbcc-f6e0ef40c28e"
      },
      "source": [
        "# 모델 성능 확인하기\n",
        "# 손실값과 정확도 반환 (손실=오차이므로 숫자가 낮을수록 좋음)\n",
        "\n",
        "results = model.evaluate(test_data, test_labels, verbose=2)\n",
        "\n",
        "print(results)"
      ],
      "execution_count": 23,
      "outputs": [
        {
          "output_type": "stream",
          "name": "stdout",
          "text": [
            "782/782 - 1s - loss: 0.3266 - accuracy: 0.8729\n",
            "[0.3265581429004669, 0.8729199767112732]\n"
          ]
        }
      ]
    },
    {
      "cell_type": "markdown",
      "metadata": {
        "id": "hMEFLXv40sp4"
      },
      "source": [
        "# 정확도와 손실 그래프 그리기"
      ]
    },
    {
      "cell_type": "code",
      "metadata": {
        "colab": {
          "base_uri": "https://localhost:8080/"
        },
        "id": "km2jegbRy8R_",
        "outputId": "b6ba65e5-17ea-492d-c03d-d1d2c5604231"
      },
      "source": [
        "# model.fit()는 history객체를 반환\n",
        "# history에는 훈련하는 동안 일어난 모든 정보가 담긴 딕셔너리가 들어있음\n",
        "\n",
        "history_dict = history.history\n",
        "history_dict.keys()"
      ],
      "execution_count": 24,
      "outputs": [
        {
          "output_type": "execute_result",
          "data": {
            "text/plain": [
              "dict_keys(['loss', 'accuracy', 'val_loss', 'val_accuracy'])"
            ]
          },
          "metadata": {},
          "execution_count": 24
        }
      ]
    },
    {
      "cell_type": "code",
      "metadata": {
        "colab": {
          "base_uri": "https://localhost:8080/",
          "height": 295
        },
        "id": "nfJCWlOx1DTO",
        "outputId": "7dbbb6a6-3d33-4b1b-f396-cc548cf78737"
      },
      "source": [
        "# 훈련손실, 검증손실 그래프와 훈련 정확도, 검증정확도 그래프를 그려서 비교하기\n",
        "# 점선 = 훈련손실, 훈련정확도\n",
        "# 실선 = 검증손실, 검증정확도\n",
        "\n",
        "import matplotlib.pyplot as plt\n",
        "\n",
        "acc = history_dict['accuracy']\n",
        "val_acc = history_dict['val_accuracy']\n",
        "loss = history_dict['loss']\n",
        "val_loss = history_dict['val_loss']\n",
        "\n",
        "epochs = range(1, len(acc) + 1)\n",
        "\n",
        "#'bo' = '파란색 점\n",
        "# 'b' = '파란 실선'\n",
        "plt.plot(epochs, loss, 'bo', label = 'Training loss')\n",
        "plt.plot(epochs, val_loss, 'b', label='Validation loss')\n",
        "plt.title('Training and validation loss')\n",
        "plt.xlabel('Epochs')\n",
        "plt.ylabel('Loss')\n",
        "plt.legend()\n",
        "\n",
        "plt.show()"
      ],
      "execution_count": 29,
      "outputs": [
        {
          "output_type": "display_data",
          "data": {
            "image/png": "[encoded data removed]",
            "text/plain": [
              "<Figure size 432x288 with 1 Axes>"
            ]
          },
          "metadata": {
            "needs_background": "light"
          }
        }
      ]
    },
    {
      "cell_type": "code",
      "metadata": {
        "colab": {
          "base_uri": "https://localhost:8080/",
          "height": 295
        },
        "id": "6XKBadEY1_6s",
        "outputId": "a749912c-8ed1-4400-d26e-52b4ccbba3b2"
      },
      "source": [
        "plt.clf()  # 그림 초기화\n",
        "\n",
        "plt.plot(epochs, acc, 'bo', label='Training acc')\n",
        "plt.plot(epochs, val_acc, 'b', label = 'Validation acc')\n",
        "plt.title('Training and validation accuracy')\n",
        "plt.xlabel('Epochs')\n",
        "plt.ylabel('Accuracy')\n",
        "plt.legend()\n",
        "\n",
        "plt.show()"
      ],
      "execution_count": 30,
      "outputs": [
        {
          "output_type": "display_data",
          "data": {
            "image/png": "[encoded data removed]",
            "text/plain": [
              "<Figure size 432x288 with 1 Axes>"
            ]
          },
          "metadata": {
            "needs_background": "light"
          }
        }
      ]
    }
  ]
}