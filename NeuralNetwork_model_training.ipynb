{
  "nbformat": 4,
  "nbformat_minor": 0,
  "metadata": {
    "colab": {
      "name": "NeuralNetwork_model_training.ipynb",
      "provenance": [],
      "authorship_tag": "ABX9TyNcJ94wdUvs+WPDtmOSsacJ",
      "include_colab_link": true
    },
    "kernelspec": {
      "name": "python3",
      "display_name": "Python 3"
    },
    "language_info": {
      "name": "python"
    }
  },
  "cells": [
    {
      "cell_type": "markdown",
      "metadata": {
        "id": "view-in-github",
        "colab_type": "text"
      },
      "source": [
        "<a href=\"https://colab.research.google.com/github/yeedacoding/TensorFlow-DL/blob/main/NeuralNetwork_model_training.ipynb\" target=\"_parent\"><img src=\"https://colab.research.google.com/assets/colab-badge.svg\" alt=\"Open In Colab\"/></a>"
      ]
    },
    {
      "cell_type": "markdown",
      "metadata": {
        "id": "dVWprSThOFkH"
      },
      "source": [
        "# 손실 곡선\n",
        "\n",
        "- keras의 fit() 메서드는 History 클래스 객체를 반환\n",
        "- History 객체에는 훈련 과정에서 계산한 손실, 정확도 값이 저장되어 있음"
      ]
    },
    {
      "cell_type": "code",
      "metadata": {
        "colab": {
          "base_uri": "https://localhost:8080/"
        },
        "id": "BTKdBLI_NdQ-",
        "outputId": "ac413d22-9db2-4d90-cf46-456c522076af"
      },
      "source": [
        "# 손실 곡선을 이용하여 그래프 그려보기\n",
        "\n",
        "from tensorflow import keras\n",
        "from sklearn.model_selection import train_test_split\n",
        "\n",
        "(train_input, train_target), (test_input, test_target) = keras.datasets.fashion_mnist.load_data()\n",
        "\n",
        "train_scaled = train_input / 255.0\n",
        "train_scaled, val_scaled, train_target, val_target = train_test_split(train_scaled, train_target, test_size = 0.2, random_state = 42)"
      ],
      "execution_count": null,
      "outputs": [
        {
          "output_type": "stream",
          "name": "stdout",
          "text": [
            "Downloading data from https://storage.googleapis.com/tensorflow/tf-keras-datasets/train-labels-idx1-ubyte.gz\n",
            "32768/29515 [=================================] - 0s 0us/step\n",
            "40960/29515 [=========================================] - 0s 0us/step\n",
            "Downloading data from https://storage.googleapis.com/tensorflow/tf-keras-datasets/train-images-idx3-ubyte.gz\n",
            "26427392/26421880 [==============================] - 0s 0us/step\n",
            "26435584/26421880 [==============================] - 0s 0us/step\n",
            "Downloading data from https://storage.googleapis.com/tensorflow/tf-keras-datasets/t10k-labels-idx1-ubyte.gz\n",
            "16384/5148 [===============================================================================================] - 0s 0us/step\n",
            "Downloading data from https://storage.googleapis.com/tensorflow/tf-keras-datasets/t10k-images-idx3-ubyte.gz\n",
            "4423680/4422102 [==============================] - 0s 0us/step\n",
            "4431872/4422102 [==============================] - 0s 0us/step\n"
          ]
        }
      ]
    },
    {
      "cell_type": "code",
      "metadata": {
        "id": "k5rx18oTOrZa"
      },
      "source": [
        "# 모델을 만드는 함수로 정의해보기\n",
        "\n",
        "def model_fn(a_layer = None) :\n",
        "  model = keras.Sequential()\n",
        "  model.add(keras.layers.Flatten(input_shape=(28,28)))\n",
        "  model.add(keras.layers.Dense(100, activation = 'relu'))\n",
        "\n",
        "  # model_fn() 함수에 a_layer 매개변수로 keras 층을 추가하면 은닉층 뒤에 또 하나의 층을 추가\n",
        "  if a_layer :\n",
        "    model.add(a_layer)\n",
        "  model.add(keras.layers.Dense(10, activation = 'softmax'))\n",
        "  return model"
      ],
      "execution_count": null,
      "outputs": []
    },
    {
      "cell_type": "code",
      "metadata": {
        "colab": {
          "base_uri": "https://localhost:8080/"
        },
        "id": "Kjiw3ydJPEzI",
        "outputId": "59900ede-319b-487c-fd93-3df43d3a46a7"
      },
      "source": [
        "# 모델 구조 확인해보기\n",
        "\n",
        "model = model_fn()\n",
        "model.summary()"
      ],
      "execution_count": null,
      "outputs": [
        {
          "output_type": "stream",
          "name": "stdout",
          "text": [
            "Model: \"sequential_2\"\n",
            "_________________________________________________________________\n",
            "Layer (type)                 Output Shape              Param #   \n",
            "=================================================================\n",
            "flatten (Flatten)            (None, 784)               0         \n",
            "_________________________________________________________________\n",
            "dense (Dense)                (None, 100)               78500     \n",
            "_________________________________________________________________\n",
            "dense_1 (Dense)              (None, 10)                1010      \n",
            "=================================================================\n",
            "Total params: 79,510\n",
            "Trainable params: 79,510\n",
            "Non-trainable params: 0\n",
            "_________________________________________________________________\n"
          ]
        }
      ]
    },
    {
      "cell_type": "code",
      "metadata": {
        "id": "2V5wqn0wQJrS"
      },
      "source": [
        "# fit() 메서드의 결과를 history 변수에 담기\n",
        "\n",
        "model.compile(loss='sparse_categorical_crossentropy', metrics = 'accuracy')\n",
        "\n",
        "history = model.fit(train_scaled, train_target, epochs = 5, verbose = 0)"
      ],
      "execution_count": null,
      "outputs": []
    },
    {
      "cell_type": "markdown",
      "metadata": {
        "id": "LYPFEll3Qkho"
      },
      "source": [
        "#### * verbose 매개변수*\n",
        "\n",
        "- 훈련과정 출력을 조절\n",
        "- 1( =default) : 에포크마다 진행 막대와 손실 등의 지표 출력\n",
        "- 2 : 진행 막대를 빼고 출력\n",
        "- 0 : 훈련과정 출력하지 않음"
      ]
    },
    {
      "cell_type": "code",
      "metadata": {
        "colab": {
          "base_uri": "https://localhost:8080/"
        },
        "id": "oCjsFtL6Q4Jl",
        "outputId": "6d87e95b-947d-4fa8-8751-6210c3c93f68"
      },
      "source": [
        "# history 객체에는 훈련 측정값이 담겨 있는 history 딕셔너리가 들어 있음\n",
        "\n",
        "print(history.history.keys())"
      ],
      "execution_count": null,
      "outputs": [
        {
          "output_type": "stream",
          "name": "stdout",
          "text": [
            "dict_keys(['loss', 'accuracy'])\n"
          ]
        }
      ]
    },
    {
      "cell_type": "code",
      "metadata": {
        "colab": {
          "base_uri": "https://localhost:8080/",
          "height": 279
        },
        "id": "B1CVWM2RRBwd",
        "outputId": "c9096dcd-7b3b-460c-93df-e9a1dace2da6"
      },
      "source": [
        "# history 객체에 포함된 손실(loss)과 정확도(accuracy)는 에포크마다 계산한 값이 순서대로 나열된 리스트\n",
        "# 그래프로 나타내보기\n",
        "\n",
        "# 손실(loss) 그래프\n",
        "import matplotlib.pyplot as plt\n",
        "\n",
        "plt.plot(history.history['loss'])\n",
        "plt.xlabel('epoch')\n",
        "plt.ylabel('loss')\n",
        "plt.show()"
      ],
      "execution_count": null,
      "outputs": [
        {
          "output_type": "display_data",
          "data": {
            "image/png": "[encoded data removed]",
            "text/plain": [
              "<Figure size 432x288 with 1 Axes>"
            ]
          },
          "metadata": {
            "needs_background": "light"
          }
        }
      ]
    },
    {
      "cell_type": "code",
      "metadata": {
        "colab": {
          "base_uri": "https://localhost:8080/",
          "height": 283
        },
        "id": "JMCjjQlnResQ",
        "outputId": "3b9501b0-0e12-49f4-8605-3f3441374f0f"
      },
      "source": [
        "# 정확도(accuracy) 그래프\n",
        "\n",
        "plt.plot(history.history['accuracy'])\n",
        "plt.xlabel('epoch')\n",
        "plt.ylabel('accuracy')\n",
        "plt.show()"
      ],
      "execution_count": null,
      "outputs": [
        {
          "output_type": "display_data",
          "data": {
            "image/png": "[encoded data removed]",
            "text/plain": [
              "<Figure size 432x288 with 1 Axes>"
            ]
          },
          "metadata": {
            "needs_background": "light"
          }
        }
      ]
    },
    {
      "cell_type": "code",
      "metadata": {
        "colab": {
          "base_uri": "https://localhost:8080/",
          "height": 279
        },
        "id": "OxQ2BSl0Rtq7",
        "outputId": "ee784d46-1a9b-4013-a133-c3739aa997ae"
      },
      "source": [
        "# 에포크 늘려서 훈련하고 그래프로 손실값 그려보기\n",
        "\n",
        "model = model_fn()\n",
        "model.compile(loss='sparse_categorical_crossentropy', metrics = 'accuracy')\n",
        "history = model.fit(train_scaled, train_target, epochs = 20, verbose = 0)\n",
        "\n",
        "plt.plot(history.history['loss'])\n",
        "plt.xlabel('epoch')\n",
        "plt.ylabel('loss')\n",
        "plt.show()"
      ],
      "execution_count": null,
      "outputs": [
        {
          "output_type": "display_data",
          "data": {
            "image/png": "[encoded data removed]",
            "text/plain": [
              "<Figure size 432x288 with 1 Axes>"
            ]
          },
          "metadata": {
            "needs_background": "light"
          }
        }
      ]
    },
    {
      "cell_type": "code",
      "metadata": {
        "colab": {
          "base_uri": "https://localhost:8080/"
        },
        "id": "3ywsykRGSkkT",
        "outputId": "c4e96018-0d10-4044-d72c-871407252299"
      },
      "source": [
        "# 에포크에 따른 overfitting, underfitting을 파악하려면 훈련 세트에 대한 점수, 검증 세트에 대한 점수 둘 다 필요\n",
        "# 두 세트에 대한 손실값을 그래프로 그려 overfitting, underfitting 확인해보기\n",
        "\n",
        "# validation_data 매개변수에 검증에 사용할 입력과 타깃값 전달(튜플)\n",
        "\n",
        "model = model_fn()\n",
        "model.compile(loss='sparse_categorical_crossentropy', metrics = 'accuracy')\n",
        "\n",
        "history = model.fit(train_scaled, train_target, epochs= 20, verbose = 0, validation_data = (val_scaled, val_target))\n",
        "\n",
        "print(history.history.keys())"
      ],
      "execution_count": null,
      "outputs": [
        {
          "output_type": "stream",
          "name": "stdout",
          "text": [
            "dict_keys(['loss', 'accuracy', 'val_loss', 'val_accuracy'])\n"
          ]
        }
      ]
    },
    {
      "cell_type": "code",
      "metadata": {
        "colab": {
          "base_uri": "https://localhost:8080/",
          "height": 279
        },
        "id": "u3VEA083THEj",
        "outputId": "dfb97fdb-aabf-4a54-f6f5-c85b235a0dec"
      },
      "source": [
        "# 훈련 세트의 손실도와 검증 세트의 손실도를 그래프로 그려 overfitting, underfitting 확인해보기\n",
        "\n",
        "plt.plot(history.history['loss'])\n",
        "plt.plot(history.history['val_loss'])\n",
        "plt.xlabel('epoch')\n",
        "plt.ylabel('loss')\n",
        "plt.legend(['train', 'val'])\n",
        "plt.show()"
      ],
      "execution_count": null,
      "outputs": [
        {
          "output_type": "display_data",
          "data": {
            "image/png": "[encoded data removed]",
            "text/plain": [
              "<Figure size 432x288 with 1 Axes>"
            ]
          },
          "metadata": {
            "needs_background": "light"
          }
        }
      ]
    },
    {
      "cell_type": "markdown",
      "metadata": {
        "id": "wdQsVAi1TqzR"
      },
      "source": [
        "## 검증 손실\n",
        "\n",
        " - 초기에는 훈련 세트와 검증 세트의 손실도가 감소하다가\n",
        " - 2.5 epoch를 지나면서 검증 세트의 손실도가 증가\n",
        " - epoch가 진행되면서 훈련 세트의 손실도는 꾸준히 감소하지만 검증 세트의 손실도는 전체적으로 증가하게 된다 -> overfitting"
      ]
    },
    {
      "cell_type": "markdown",
      "metadata": {
        "id": "XGyhl6xZUMH0"
      },
      "source": [
        "### 신경망에서 overfitting을 규제하는 방법 1 : 옵티마이저 조정\n",
        "\n",
        "- 옵티마이저 하이퍼파라미터 조정하여 overfitting을 규제하기\n",
        "- Adam 옵티마이저는 적응적 학습률을 사용하기 때문에 에포크가 진행되면서 학습률의 크기를 조정 가능"
      ]
    },
    {
      "cell_type": "code",
      "metadata": {
        "colab": {
          "base_uri": "https://localhost:8080/",
          "height": 279
        },
        "id": "vtUf6dP3TqGt",
        "outputId": "29f27453-0c01-4c29-bbd7-bccb5a3f7045"
      },
      "source": [
        "model = model_fn()\n",
        "model.compile(optimizer = 'adam', loss = 'sparse_categorical_crossentropy', metrics = 'accuracy')\n",
        "\n",
        "history = model.fit(train_scaled, train_target, epochs = 20, verbose = 0, validation_data = (val_scaled, val_target))\n",
        "\n",
        "plt.plot(history.history['loss'])\n",
        "plt.plot(history.history['val_loss'])\n",
        "plt.xlabel('epoch')\n",
        "plt.ylabel('loss')\n",
        "plt.legend(['train', 'val'])\n",
        "plt.show()"
      ],
      "execution_count": null,
      "outputs": [
        {
          "output_type": "display_data",
          "data": {
            "image/png": "[encoded data removed]",
            "text/plain": [
              "<Figure size 432x288 with 1 Axes>"
            ]
          },
          "metadata": {
            "needs_background": "light"
          }
        }
      ]
    },
    {
      "cell_type": "markdown",
      "metadata": {
        "id": "vmPf4krIVT8f"
      },
      "source": [
        "- Adam 옵티마이저를 사용하여 overfitting을 조금 완화할 수 있었음"
      ]
    },
    {
      "cell_type": "markdown",
      "metadata": {
        "id": "PcC1EMbRVOya"
      },
      "source": [
        "### 신경망에서 overfitting을 규제하는 방법 2 : 드롭아웃 (Drop Out)\n",
        "\n",
        "- 훈련 과정에서 층에 있는 일부 뉴런을 랜덤하게 꺼서(off, 즉 뉴런의 출력을 0으로 만들어버림) overfitting을 규제\n",
        "- 하이퍼파라미터를 통해 드롭할 뉴런의 양을 조절할 수 있음\n",
        "- 뉴런은 랜덤하게 드롭아웃됨\n",
        "- 드롭아웃이 overfitting을 규제하는 이유 : 이전 층의 일부 뉴런이 랜덤하게 꺼지면 특정 뉴런에 과대하게 의존하는 것을 줄일 수 있고 모든 입력에 대해 주의를 기울여야하기 때문\n",
        "- keras.layers 패키지에서 Dropout 클래스 제공\n",
        "- 어떤 층의 뒤에 드롭아웃을 두어 이 층에서 랜덤하게 뉴런의 출력을 0으로 만들어버림\n",
        "- 드롭아웃은 층처럼 사용되지만 훈련되는 모델 파라미터는 없음\n",
        "- 드롭아웃 층의 입력과 출력의 크기는 같음(일부 뉴런의 출력을 0으로 만들지만 전체 출력 배열의 크기를 바꾸지는 않음)"
      ]
    },
    {
      "cell_type": "code",
      "metadata": {
        "colab": {
          "base_uri": "https://localhost:8080/"
        },
        "id": "YejiO425VKlO",
        "outputId": "0216cb03-89e5-42ef-f523-d33914f5c505"
      },
      "source": [
        "# 30%를 드롭아웃해보기\n",
        "# 은닉층과 출력층 사이에 드롭아웃 층 생성\n",
        "\n",
        "model = model_fn(keras.layers.Dropout(0.3))\n",
        "model.summary()"
      ],
      "execution_count": null,
      "outputs": [
        {
          "output_type": "stream",
          "name": "stdout",
          "text": [
            "Model: \"sequential_9\"\n",
            "_________________________________________________________________\n",
            "Layer (type)                 Output Shape              Param #   \n",
            "=================================================================\n",
            "flatten_7 (Flatten)          (None, 784)               0         \n",
            "_________________________________________________________________\n",
            "dense_14 (Dense)             (None, 100)               78500     \n",
            "_________________________________________________________________\n",
            "dropout_2 (Dropout)          (None, 100)               0         \n",
            "_________________________________________________________________\n",
            "dense_15 (Dense)             (None, 10)                1010      \n",
            "=================================================================\n",
            "Total params: 79,510\n",
            "Trainable params: 79,510\n",
            "Non-trainable params: 0\n",
            "_________________________________________________________________\n"
          ]
        }
      ]
    },
    {
      "cell_type": "markdown",
      "metadata": {
        "id": "9GShW9zxWz4Y"
      },
      "source": [
        "- 훈련이 끝난 뒤에 평가나 예측을 수행할 때는 드롭아웃을 적용하면 안됨\n",
        "- tensorflow, keras에서는 모델을 평가와 예측에 사용할 때는 자동으로 드롭아웃을 적용시키지 않는다"
      ]
    },
    {
      "cell_type": "code",
      "metadata": {
        "colab": {
          "base_uri": "https://localhost:8080/",
          "height": 279
        },
        "id": "cbqrZ1I6WfYK",
        "outputId": "e7afac95-2460-43e6-c2db-102436942b2b"
      },
      "source": [
        "# 드롭아웃을 적용한 모델의 훈련세트, 검증세트의 손실도 비교하기\n",
        "\n",
        "model.compile(optimizer = 'adam', loss = 'sparse_categorical_crossentropy', metrics = 'accuracy')\n",
        "\n",
        "history = model.fit(train_scaled, train_target, epochs = 20, verbose = 0, validation_data = (val_scaled, val_target))\n",
        "\n",
        "plt.plot(history.history['loss'])\n",
        "plt.plot(history.history['val_loss'])\n",
        "plt.xlabel('epoch')\n",
        "plt.ylabel('loss')\n",
        "plt.legend(['train', 'val'])\n",
        "plt.show()"
      ],
      "execution_count": null,
      "outputs": [
        {
          "output_type": "display_data",
          "data": {
            "image/png": "[encoded data removed]",
            "text/plain": [
              "<Figure size 432x288 with 1 Axes>"
            ]
          },
          "metadata": {
            "needs_background": "light"
          }
        }
      ]
    },
    {
      "cell_type": "markdown",
      "metadata": {
        "id": "vwXM0t4cX22d"
      },
      "source": [
        "- 10번째정도의 에포크에서 검증 손실의 감소가 멈추지만 크게 상승하지 않음\n",
        "- 하지만 20번의 에포크를 돌렸기 때문에 모델은 overfitting이 됨\n",
        "- 에포크 횟수 10번으로 줄여보자"
      ]
    },
    {
      "cell_type": "code",
      "metadata": {
        "id": "3DEMcIstXmlP"
      },
      "source": [
        "model = model_fn(keras.layers.Dropout(0.3))\n",
        "\n",
        "model.compile(optimizer = 'adam', loss = 'sparse_categorical_crossentropy', metrics = 'accuracy')\n",
        "\n",
        "history = model.fit(train_scaled, train_target, epochs = 10, verbose = 0, validation_data = (val_scaled, val_target))"
      ],
      "execution_count": null,
      "outputs": []
    },
    {
      "cell_type": "markdown",
      "metadata": {
        "id": "70Ukk_RQYHL3"
      },
      "source": [
        "# 모델 저장과 복원\n",
        "\n",
        "- save_weights() : 훈련된 모델의 파라미터를 저장(w,b)\n",
        "- save() : 모델 구조와 모델 파라미터를 모두 저장"
      ]
    },
    {
      "cell_type": "code",
      "metadata": {
        "id": "B8kcoEmVY68s"
      },
      "source": [
        "# 훈련된 모델의 모델 파라미터 저장\n",
        "\n",
        "model.save_weights('model-weights.h5')"
      ],
      "execution_count": null,
      "outputs": []
    },
    {
      "cell_type": "code",
      "metadata": {
        "id": "cva3zuLLZC4o"
      },
      "source": [
        "# 훈련된 모델 구조와 모델 파라미터를 함께 저장\n",
        "\n",
        "model.save('model-whole.h5')"
      ],
      "execution_count": null,
      "outputs": []
    },
    {
      "cell_type": "code",
      "metadata": {
        "colab": {
          "base_uri": "https://localhost:8080/"
        },
        "id": "uSdAvfnpZOw5",
        "outputId": "75f7e2d5-26db-483f-d5f0-12b756c17bfa"
      },
      "source": [
        "# 두 개의 파일이 만들어졌는지 확인해보기\n",
        "\n",
        "!ls -al *.h5"
      ],
      "execution_count": null,
      "outputs": [
        {
          "output_type": "stream",
          "name": "stdout",
          "text": [
            "-rw-r--r-- 1 root root 332480 Nov  1 12:06 model-weights.h5\n",
            "-rw-r--r-- 1 root root 981736 Nov  1 12:06 model-whole.h5\n"
          ]
        }
      ]
    },
    {
      "cell_type": "markdown",
      "metadata": {
        "id": "OGTrGF-sZmsU"
      },
      "source": [
        "### 1. 훈련을 하지 않은 새로운 모델을 만들고 model-weights.h5 파일에서 훈련된 모델 파라미터 읽어서 사용해보기\n",
        "\n",
        "- 훈련하지 않은 새로운 모델을 만들고 이전에 저장했던 모델 파라미터를 적재\n",
        "- save_weights()와 load_weights() 메서드는 서로 쌍을 이룸\n",
        "- load_weights() 메서드를 사용하려면 save_weights() 메서드로 저장했던 모델과 정확히 같은 구조를 가져야 함"
      ]
    },
    {
      "cell_type": "code",
      "metadata": {
        "id": "BagsodaGZTvD"
      },
      "source": [
        "# 훈련을 하지 않은 새로운 모델을 만들고 model-weights.h5 파일에서 훈련된 모델 파라미터 읽어서 사용해보기\n",
        "\n",
        "# 새로운 model 만들기\n",
        "model = model_fn(keras.layers.Dropout(0.3))\n",
        "\n",
        "# 새로운 model에 model-weights.h5의 모델 파라미터 적재\n",
        "model.load_weights('model-weights.h5')"
      ],
      "execution_count": null,
      "outputs": []
    },
    {
      "cell_type": "code",
      "metadata": {
        "colab": {
          "base_uri": "https://localhost:8080/"
        },
        "id": "7O6AWA_3Z5iP",
        "outputId": "b7d912f0-4746-4741-ca45-d5c911ab6188"
      },
      "source": [
        "# 새롭게 만든 model의 검증 정확도 확인해보기\n",
        "# keras의 predict() 메서드 사용 -> 사이킷런과 달리 샘플마다 10개의 클래스에 대한 확률을 반환\n",
        "# 패션 MNIST 데이터셋에서 덜어낸 검증 세트의 샘플 개수는 12,000개이기 때문에 predict() 메서드는 (12000, 10) 크기의 배열을 반환\n",
        "# 10개 확률 중에 가장 큰 값의 인덱스를 골라 타깃 레이블과 비교하여 정확도 확인해보기\n",
        "\n",
        "import numpy as np\n",
        "\n",
        "# 각 행의 최댓값의 인덱스를 선택\n",
        "val_labels = np.argmax(model.predict(val_scaled), axis = -1)\n",
        "\n",
        "# argmax()에서 고른 인덱스(val_scaled)와 타깃(val_target)을 비교\n",
        "# 두 배열에서 각 위치의 값이 같으면 1, 다르면 0\n",
        "# 이를 평균하면 정확도가 됨\n",
        "print(np.mean(val_labels == val_target))"
      ],
      "execution_count": null,
      "outputs": [
        {
          "output_type": "stream",
          "name": "stdout",
          "text": [
            "0.88075\n"
          ]
        }
      ]
    },
    {
      "cell_type": "markdown",
      "metadata": {
        "id": "I6qSYa4YbJ0C"
      },
      "source": [
        "### 2. model-whole.h5 파일에서 새로운 모델을 만들어 바로 사용해보기\n",
        "\n",
        "- 모델이 저장된 파일을 읽을 때는 keras가 제공하는 load_model() 함수를 사용"
      ]
    },
    {
      "cell_type": "code",
      "metadata": {
        "colab": {
          "base_uri": "https://localhost:8080/"
        },
        "id": "dOncLiy7bHNl",
        "outputId": "98f043b6-2d6b-4b3e-c2cf-357545df323f"
      },
      "source": [
        "model = keras.models.load_model('model-whole.h5')\n",
        "\n",
        "model.evaluate(val_scaled, val_target)\n",
        "\n",
        "# 같은 모델을 저장하고 다시 불러들였기 때문에 위와 같은 정확도가 출력됨"
      ],
      "execution_count": null,
      "outputs": [
        {
          "output_type": "stream",
          "name": "stdout",
          "text": [
            "375/375 [==============================] - 1s 1ms/step - loss: 0.3317 - accuracy: 0.8808\n"
          ]
        },
        {
          "output_type": "execute_result",
          "data": {
            "text/plain": [
              "[0.331672728061676, 0.8807500004768372]"
            ]
          },
          "metadata": {},
          "execution_count": 30
        }
      ]
    },
    {
      "cell_type": "markdown",
      "metadata": {
        "id": "uel31R6_bt1S"
      },
      "source": [
        "1. 20번의 에포크 동안 모델을 훈련하여 검증 점수가 상승하는 지점 확인\n",
        "2. 그 다음 모델을 overfitting 되지 않는 에포크만큼 다시 훈련"
      ]
    },
    {
      "cell_type": "markdown",
      "metadata": {
        "id": "mDHBI7J4cE1f"
      },
      "source": [
        "# 콜백(callback)\n",
        "\n",
        "- 훈련 과정 중간에 어떤 작업을 수행할 수 있게 하는 객체\n",
        "- keras.callbacks 패키지 아래에 있는 클래스들\n",
        "- fit() 메서드에 callbacks 매개변수에 리스트로 전달하여 사용\n",
        "- ModelCheckpoint 콜백은 기본적으로 모델이 훈련된 후 최상의 검증 점수를 만드는 모델을 저장함"
      ]
    },
    {
      "cell_type": "code",
      "metadata": {
        "colab": {
          "base_uri": "https://localhost:8080/"
        },
        "id": "fZYoOiEeblLP",
        "outputId": "4545ae44-d2f9-4ce1-f8f5-074e104bc619"
      },
      "source": [
        "model = model_fn(keras.layers.Dropout(0.3))\n",
        "\n",
        "model.compile(optimizer = 'adam', loss = 'sparse_categorical_crossentropy', metrics = 'accuracy')\n",
        "\n",
        "checkpoint_cb = keras.callbacks.ModelCheckpoint('best-model.h5')\n",
        "\n",
        "model.fit(train_scaled, train_target, epochs=20, verbose=0, validation_data=(val_scaled, val_target), callbacks=[checkpoint_cb])"
      ],
      "execution_count": null,
      "outputs": [
        {
          "output_type": "execute_result",
          "data": {
            "text/plain": [
              "<keras.callbacks.History at 0x7f03ca960110>"
            ]
          },
          "metadata": {},
          "execution_count": 31
        }
      ]
    },
    {
      "cell_type": "markdown",
      "metadata": {
        "id": "x3s4cjNBc4mc"
      },
      "source": [
        "- model_fn() 함수로 모델을 만들고 compile() 메서드를 호출\n",
        "- ModelCheckpoint 클래스의 객체 checkpoint_cb를 만든 후\n",
        "- fit() 메서드의 callbacks 매개변수에 리스트로 감싸서 전달\n",
        "- 모델이 훈련된 후 best-model.h5 파일에 최상의 검증 점수를 낸 모델이 저장됨"
      ]
    },
    {
      "cell_type": "code",
      "metadata": {
        "colab": {
          "base_uri": "https://localhost:8080/"
        },
        "id": "c7PtMf_6dM1E",
        "outputId": "11943cc5-c1d9-4fd0-ac99-d818aa4abca2"
      },
      "source": [
        "# 모델을 다시 불러와서 예측 수행해보기\n",
        "\n",
        "model = keras.models.load_model('best-model.h5')\n",
        "model.evaluate(val_scaled, val_target)"
      ],
      "execution_count": null,
      "outputs": [
        {
          "output_type": "stream",
          "name": "stdout",
          "text": [
            "375/375 [==============================] - 1s 1ms/step - loss: 0.3288 - accuracy: 0.8843\n"
          ]
        },
        {
          "output_type": "execute_result",
          "data": {
            "text/plain": [
              "[0.3287601172924042, 0.8843333125114441]"
            ]
          },
          "metadata": {},
          "execution_count": 33
        }
      ]
    },
    {
      "cell_type": "markdown",
      "metadata": {
        "id": "4VI3y6dtd3B7"
      },
      "source": [
        "## **조기 종료 (early stopping)**\n",
        "\n",
        "- ModelCheckpoint 콜백이 최상의 검증 점수를 낸 모델을 저장했음\n",
        "- 하지만 여전히 에포크는 20회를 수행함 -> 컴퓨터 자원 + 시간 낭비\n",
        "- overfitting이 시작되기 전에 훈련을 미리 중지하는 것 = **조기 종료(early stopping)**\n",
        "- keras에서 **EarlyStopping** 콜백 제공\n",
        "- **patience** 매개변수 : 검증 점수가 향상되지 않더라도 계속 참고 진행할 에포크 횟수로 지정\n",
        "- ex) patience = 2로 지정하면 2번 연속 검증 점수가 향상되지 않으면 훈련을 중지\n",
        "- **restore_best_weights** 매개변수 : True로 지정하면 가장 낮은 검증 손실을 낸 모델 파라미터로 되돌림"
      ]
    },
    {
      "cell_type": "code",
      "metadata": {
        "id": "TrKmuunaevqQ"
      },
      "source": [
        "model = model_fn(keras.layers.Dropout(0.3))\n",
        "model.compile(optimizer = 'adam', loss = 'sparse_categorical_crossentropy', metrics = 'accuracy')\n",
        "checkpoint_cb = keras.callbacks.ModelCheckpoint('best-model.h5')\n",
        "\n",
        "early_stopping_cb = keras.callbacks.EarlyStopping(patience = 2, restore_best_weights = True)\n",
        "\n",
        "history = model.fit(train_scaled, train_target, epochs=20, verbose=0, validation_data=(val_scaled, val_target), callbacks=[checkpoint_cb, early_stopping_cb])"
      ],
      "execution_count": null,
      "outputs": []
    },
    {
      "cell_type": "code",
      "metadata": {
        "colab": {
          "base_uri": "https://localhost:8080/"
        },
        "id": "f1kwE3cnfHIR",
        "outputId": "0d357ba4-d98f-441e-f1c1-cad882280ff4"
      },
      "source": [
        "# 훈련을 마치고 몇 번째 에포크에서 훈련이 중지되었는지 early_stopping_cb 객체의 stopped_epoch 속성에서 확인해보기\n",
        "\n",
        "print(early_stopping_cb.stopped_epoch)"
      ],
      "execution_count": null,
      "outputs": [
        {
          "output_type": "stream",
          "name": "stdout",
          "text": [
            "9\n"
          ]
        }
      ]
    },
    {
      "cell_type": "markdown",
      "metadata": {
        "id": "qgenM61ffVhk"
      },
      "source": [
        "- 에포크가 0에서 시장하기 때문에\n",
        "- 9는 10번째 에프코에서 훈련이 중지되었다는 것을 의미\n",
        "- patience = 2로 주었기 때문에 최상의 모델은 7번째 에포크일 것임"
      ]
    },
    {
      "cell_type": "code",
      "metadata": {
        "colab": {
          "base_uri": "https://localhost:8080/",
          "height": 280
        },
        "id": "A1M6TqDJfh_G",
        "outputId": "72047a77-4554-4594-b9d5-ac564a809e93"
      },
      "source": [
        "plt.plot(history.history['loss'])\n",
        "plt.plot(history.history['val_loss'])\n",
        "plt.xlabel('epoch')\n",
        "plt.ylabel('loss')\n",
        "plt.legend(['train', 'val'])\n",
        "plt.show()"
      ],
      "execution_count": null,
      "outputs": [
        {
          "output_type": "display_data",
          "data": {
            "image/png": "[encoded data removed]",
            "text/plain": [
              "<Figure size 432x288 with 1 Axes>"
            ]
          },
          "metadata": {
            "needs_background": "light"
          }
        }
      ]
    },
    {
      "cell_type": "markdown",
      "metadata": {
        "id": "TWkShQ1HfxD4"
      },
      "source": [
        "- 예상대로 7번째 에포크 이후부터는 검증 세트의 손실도가 증가하여 모델이 overfitting 되는 것을 볼 수 있음"
      ]
    },
    {
      "cell_type": "code",
      "metadata": {
        "colab": {
          "base_uri": "https://localhost:8080/"
        },
        "id": "WxhchPZGf6aA",
        "outputId": "dcd80420-d33b-48e7-8eb1-01b11603f0e6"
      },
      "source": [
        "# 조기 종료로 얻은 모델을 사용해 검증 세트에 대한 성능 확인해보기\n",
        "\n",
        "model.evaluate(val_scaled, val_target)"
      ],
      "execution_count": null,
      "outputs": [
        {
          "output_type": "stream",
          "name": "stdout",
          "text": [
            "375/375 [==============================] - 1s 1ms/step - loss: 0.3271 - accuracy: 0.8799\n"
          ]
        },
        {
          "output_type": "execute_result",
          "data": {
            "text/plain": [
              "[0.32710134983062744, 0.8799166679382324]"
            ]
          },
          "metadata": {},
          "execution_count": 37
        }
      ]
    }
  ]
}